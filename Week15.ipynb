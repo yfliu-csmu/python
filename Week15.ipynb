{
 "cells": [
  {
   "cell_type": "markdown",
   "metadata": {},
   "source": [
    "## 0. Dictionaries\n",
    "### Dictionary properties: unordered, iterable, mutable, can contain multiple data types\n",
    "- Made of key-value pairs\n",
    "- Keys must be unique, and can be strings, numbers, or tuples\n",
    "- Values can be any type"
   ]
  },
  {
   "cell_type": "markdown",
   "metadata": {},
   "source": [
    "## 1. 何謂字典 (dictionary) 的資料型態? 一般也可稱為 \"雜湊\" - hash table"
   ]
  },
  {
   "cell_type": "markdown",
   "metadata": {},
   "source": [
    "![](https://www.w3resource.com/w3r_images/python-dictionary.jpg)"
   ]
  },
  {
   "cell_type": "markdown",
   "metadata": {},
   "source": [
    "### (1) A dictionary is a collection of **key-value** pairs.\n",
    "### (2) Declare it using curly braces ( **{ }** ), and commas ( **,** ) to separate key-value pairs.\n",
    "### (3) separate values from keys using a colon( : )"
   ]
  },
  {
   "cell_type": "markdown",
   "metadata": {},
   "source": [
    "### 參考網站: https://www.w3resource.com/python/python-dictionary.php"
   ]
  },
  {
   "cell_type": "code",
   "execution_count": null,
   "metadata": {},
   "outputs": [],
   "source": [
    "student = {'Name': 'Abc', 'Age': 21}\n",
    "type(student)"
   ]
  },
  {
   "cell_type": "code",
   "execution_count": null,
   "metadata": {},
   "outputs": [],
   "source": [
    "student = {'Name': 'Abc', 'Age': 21}\n",
    "student['Name']"
   ]
  },
  {
   "cell_type": "code",
   "execution_count": null,
   "metadata": {},
   "outputs": [],
   "source": [
    "dir(student)       ### methods in \"directionary\" object"
   ]
  },
  {
   "cell_type": "markdown",
   "metadata": {},
   "source": [
    "![](http://www.fpat.org.tw/7_marketing/20150313_card/%E5%85%A8.jpg)"
   ]
  },
  {
   "cell_type": "markdown",
   "metadata": {},
   "source": [
    "## 2. 如何建立字典 (dict)?"
   ]
  },
  {
   "cell_type": "markdown",
   "metadata": {},
   "source": [
    "### (1) 宣告一個物件為 \"dict\" 類型 ( count = {}  or count = dict() )\n",
    "### (2) 利用中括號 [  ] 與等號 = 來設定 key 與 value"
   ]
  },
  {
   "cell_type": "code",
   "execution_count": null,
   "metadata": {},
   "outputs": [],
   "source": [
    "count = {}   \n",
    "count['A'] = 1\n",
    "count['A']"
   ]
  },
  {
   "cell_type": "code",
   "execution_count": null,
   "metadata": {},
   "outputs": [],
   "source": [
    "## two ways to create a dictionary\n",
    "family = {'dad':'homer', 'mom':'marge', 'size':6}\n",
    "family = dict(dad='homer', mom='marge', size=6)\n",
    "family.\n",
    "family.keys()             ## keys\n",
    "family.values()           ## values\n",
    "family.items()            ## items\n",
    "for key, value in family.items():\n",
    "    print(key, value)"
   ]
  },
  {
   "cell_type": "markdown",
   "metadata": {},
   "source": [
    "## 3. 範例請利用字典 (dict) 的資料模式，來改寫 Homework 4 計算序列中 A, T, G and C 各有多少個?"
   ]
  },
  {
   "cell_type": "code",
   "execution_count": null,
   "metadata": {},
   "outputs": [],
   "source": [
    "seq = \"AAATTTGGCCGGTAACCCTTA\"\n",
    "count_A = 0\n",
    "count_T = 0\n",
    "count_G = 0\n",
    "count_C = 0\n",
    "\n",
    "for nt in list(seq):\n",
    "    if (nt == \"A\"):\n",
    "        count_A += 1\n",
    "    elif (nt == \"T\"):\n",
    "        count_T += 1\n",
    "    elif (nt == \"G\"):\n",
    "        count_G += 1\n",
    "    elif (nt == \"C\"):\n",
    "        count_C += 1\n",
    "        \n",
    "print (\"A: \", count_A)\n",
    "print (\"T: \", count_T)\n",
    "print (\"G: \", count_G)\n",
    "print (\"C: \", count_C)"
   ]
  },
  {
   "cell_type": "markdown",
   "metadata": {},
   "source": [
    "![](https://encrypted-tbn0.gstatic.com/images?q=tbn:ANd9GcRsTXi0S3NNeqX0jDTpHy-lr0N58kGXlLJ1anr8qylJNzsrurGJog)"
   ]
  },
  {
   "cell_type": "code",
   "execution_count": null,
   "metadata": {},
   "outputs": [],
   "source": [
    "seq = \"AAATTTGGCCGGTAACCCTTA\"\n",
    "count = dict()\n",
    "count['A'] = 0\n",
    "count['T'] = 0\n",
    "count['G'] = 0\n",
    "count['C'] = 0\n",
    "\n",
    "for nt in list(seq):\n",
    "    count[nt] += 1\n",
    "\n",
    "for nt in count.keys():\n",
    "    print (nt, \": \", count[nt])"
   ]
  },
  {
   "cell_type": "markdown",
   "metadata": {},
   "source": [
    "## 4. 請利用 NCBI GenBank 資料庫 (NP_000537.3)，製作一個普通文字檔，將人類 TP53 protein (isoform a) 的氨基酸序列檔案 (FASTA format) - \"TP53p.txt\", 並上傳至 Jupyter 伺服器上。(https://www.ncbi.nlm.nih.gov/protein/NP_000537.3?report=fasta)"
   ]
  },
  {
   "cell_type": "markdown",
   "metadata": {},
   "source": [
    "## [Homework 8] 請寫一個程式，計算 TP53p.txt 檔案中，20種氨基酸所出現的次數以及頻率各為多少?"
   ]
  },
  {
   "cell_type": "code",
   "execution_count": null,
   "metadata": {},
   "outputs": [],
   "source": [
    "fn = open('TP53p.txt')\n",
    "fn.read()"
   ]
  },
  {
   "cell_type": "code",
   "execution_count": null,
   "metadata": {},
   "outputs": [],
   "source": [
    "fn = open('TP53p.txt')\n",
    "count = dict()\n",
    "len = 0\n",
    "for aa in list(fn.read()):\n",
    "    if (aa != '\\n'):\n",
    "        len += 1\n",
    "        if (aa in count):\n",
    "            count[aa] += 1\n",
    "        else: \n",
    "            count[aa] = 1\n",
    "for aa in count.keys():\n",
    "    print (aa, ': ', count[aa], '(', round(count[aa]/len*100,2), '% )')"
   ]
  },
  {
   "cell_type": "code",
   "execution_count": null,
   "metadata": {},
   "outputs": [],
   "source": [
    "help(round)"
   ]
  },
  {
   "cell_type": "markdown",
   "metadata": {},
   "source": [
    "## 5. Translation Codon Table"
   ]
  },
  {
   "cell_type": "markdown",
   "metadata": {},
   "source": [
    "### The genetic code is traditionally represented as an RNA codon table because, when proteins are made in a cell by ribosomes, it is mRNA that directs protein synthesis."
   ]
  },
  {
   "cell_type": "markdown",
   "metadata": {},
   "source": [
    "![](https://i2.wp.com/basicbiology.net/wp-content/uploads/2015/08/codons-1.jpg?w=505&ssl=1)"
   ]
  },
  {
   "cell_type": "markdown",
   "metadata": {},
   "source": [
    "### 參考網站 - http://www.petercollingridge.co.uk/tutorials/bioinformatics/codon-table/"
   ]
  },
  {
   "cell_type": "markdown",
   "metadata": {},
   "source": [
    "## 6. zip (拉鍊) build-in function"
   ]
  },
  {
   "cell_type": "markdown",
   "metadata": {},
   "source": [
    "### Make an iterator that aggregates elements from each of the iterables."
   ]
  },
  {
   "cell_type": "code",
   "execution_count": null,
   "metadata": {},
   "outputs": [],
   "source": [
    "a = [1, 2, 3]\n",
    "b = ['a', 'b', 'c']\n",
    "zipped = zip(a,b)\n",
    "dict(zipped)"
   ]
  },
  {
   "cell_type": "markdown",
   "metadata": {},
   "source": [
    "## 7. 建立標準的基因轉譯表(Genetic Codon Table)"
   ]
  },
  {
   "cell_type": "code",
   "execution_count": null,
   "metadata": {},
   "outputs": [],
   "source": [
    "bases = \"ATGC\"\n",
    "for a in bases:\n",
    "    for b in bases:\n",
    "        for c in bases:\n",
    "            print(a + b + c)"
   ]
  },
  {
   "cell_type": "code",
   "execution_count": null,
   "metadata": {},
   "outputs": [],
   "source": [
    "bases = \"123456789\"\n",
    "\n",
    "for a in bases:\n",
    "    for b in bases:\n",
    "       print(a+b)\n"
   ]
  },
  {
   "cell_type": "markdown",
   "metadata": {},
   "source": [
    "## 8. 何謂 List comprehension (列表綜合)?"
   ]
  },
  {
   "cell_type": "markdown",
   "metadata": {},
   "source": [
    "![](http://python-3-patterns-idioms-test.readthedocs.io/en/latest/_images/listComprehensions.gif)"
   ]
  },
  {
   "cell_type": "code",
   "execution_count": 34,
   "metadata": {},
   "outputs": [
    {
     "data": {
      "text/plain": [
       "[2, 4, 6, 8]"
      ]
     },
     "execution_count": 34,
     "metadata": {},
     "output_type": "execute_result"
    }
   ],
   "source": [
    "num = [1, 2, 3, 4, 5, 6, 7, 8]\n",
    "even = [i for i in num if i%2 != 0]  ## 2k+1 (奇數)\n",
    "odd = [i for i in num if i%2 == 0]   ## 2k   (偶數)\n",
    "odd"
   ]
  },
  {
   "cell_type": "markdown",
   "metadata": {},
   "source": [
    "## 利用 List comprehension 的方法建立 64 種 codons 的組合"
   ]
  },
  {
   "cell_type": "code",
   "execution_count": null,
   "metadata": {},
   "outputs": [],
   "source": [
    "bases = \"ATGC\"\n",
    "codons = [a + b + c for a in bases for b in bases for c in bases]\n",
    "codons"
   ]
  },
  {
   "cell_type": "markdown",
   "metadata": {},
   "source": [
    "![](https://st2.depositphotos.com/5777248/9767/v/950/depositphotos_97670258-stock-illustration-zipper-cartoon-icon.jpg)"
   ]
  },
  {
   "cell_type": "markdown",
   "metadata": {},
   "source": [
    "## 利用 zip 的方法建立 64 種 codons 與氨基酸的 dictionary"
   ]
  },
  {
   "cell_type": "code",
   "execution_count": null,
   "metadata": {},
   "outputs": [],
   "source": [
    "bases = \"TCAG\"\n",
    "codons = [a + b + c for a in bases for b in bases for c in bases]\n",
    "amino_acids = 'FFLLSSSSYY**CC*WLLLLPPPPHHQQRRRRIIIMTTTTNNKKSSRRVVVVAAAADDEEGGGG'\n",
    "codon_table = dict(zip(codons, amino_acids))\n",
    "codon_table"
   ]
  },
  {
   "cell_type": "code",
   "execution_count": null,
   "metadata": {},
   "outputs": [],
   "source": [
    "## 9x9 list comprehension\n",
    "results = ['{}x{}={}'.format(a+1,b+1,(a+1)*(b+1)) for a in range(9) for b in range(9)]\n",
    "results"
   ]
  },
  {
   "cell_type": "markdown",
   "metadata": {},
   "source": [
    "## 9. 何謂開放式框架(Open Reading Frame, ORF)?"
   ]
  },
  {
   "cell_type": "markdown",
   "metadata": {},
   "source": [
    "![](http://s1.hubimg.com/u/4823108_f520.jpg)"
   ]
  },
  {
   "cell_type": "markdown",
   "metadata": {},
   "source": [
    "## 10. 列表(List)的操作"
   ]
  },
  {
   "cell_type": "markdown",
   "metadata": {},
   "source": [
    "### (1) 建立一個新的列表(List)\n",
    "### (2) 將新的元素接到列表的最後 - list.append()\n",
    "### (3) 列表 (List) 的切割 (Slice) - Week 12 內容"
   ]
  },
  {
   "cell_type": "markdown",
   "metadata": {},
   "source": [
    "![](https://www.w3resource.com/w3r_images/add-item-to-the-end-of-the-list.png)"
   ]
  },
  {
   "cell_type": "code",
   "execution_count": null,
   "metadata": {},
   "outputs": [],
   "source": [
    "seq = list()\n",
    "seq.append('Yellow')\n",
    "seq"
   ]
  },
  {
   "cell_type": "markdown",
   "metadata": {},
   "source": [
    "![](https://cdn.programiz.com/sites/tutorial2program/files/element-slicling.jpg)"
   ]
  },
  {
   "cell_type": "code",
   "execution_count": null,
   "metadata": {},
   "outputs": [],
   "source": [
    "seq = \"PROGRAMIZ\"\n",
    "seq[3:6]"
   ]
  },
  {
   "cell_type": "markdown",
   "metadata": {},
   "source": [
    "## 參考資料  - https://www.w3resource.com/python/python-list.php"
   ]
  },
  {
   "cell_type": "markdown",
   "metadata": {},
   "source": [
    "## [Homework 9] 請寫一個程式，將 TP53.txt 檔案中 mRNA 轉譯 (Translation) 成為蛋白質的氨基酸序列? (僅考慮單一個 frame)"
   ]
  },
  {
   "cell_type": "markdown",
   "metadata": {},
   "source": [
    "![](http://library.open.oregonstate.edu/computationalbiology/wp-content/uploads/sites/3/2016/10/I.11_6_regex_orf_matches-2.png)"
   ]
  },
  {
   "cell_type": "code",
   "execution_count": null,
   "metadata": {},
   "outputs": [],
   "source": [
    "fn = open('TP53.txt')\n",
    "fn.read()"
   ]
  },
  {
   "cell_type": "code",
   "execution_count": null,
   "metadata": {},
   "outputs": [],
   "source": [
    "for a in range(0, 10, 3):\n",
    "    print(a)"
   ]
  },
  {
   "cell_type": "code",
   "execution_count": null,
   "metadata": {},
   "outputs": [],
   "source": [
    "bases = \"TCAG\"\n",
    "codons = [a + b + c for a in bases for b in bases for c in bases]\n",
    "amino_acids = 'FFLLSSSSYY**CC*WLLLLPPPPHHQQRRRRIIIMTTTTNNKKSSRRVVVVAAAADDEEGGGG'\n",
    "codon_table = dict(zip(codons, amino_acids))\n",
    "\n",
    "seq = list()\n",
    "fn = open(\"TP53.txt\")\n",
    "for nt in list(fn.read()):\n",
    "    if nt != '\\n':\n",
    "        seq += nt\n",
    "protein = list()\n",
    "for pos in range(0, len(seq), 3):\n",
    "    codon = str().join(seq[pos:pos + 3])\n",
    "    print(codon)\n",
    "    #    if (len(codon) == 3):\n",
    "#        protein.append(codon_table[codon])"
   ]
  },
  {
   "cell_type": "markdown",
   "metadata": {},
   "source": [
    "## D3GB https://www.ncbi.nlm.nih.gov/pubmed/28437135"
   ]
  },
  {
   "cell_type": "code",
   "execution_count": null,
   "metadata": {},
   "outputs": [],
   "source": [
    "bases = \"TCAG\"\n",
    "codons = [a + b + c for a in bases for b in bases for c in bases]\n",
    "amino_acids = 'FFLLSSSSYY**CC*WLLLLPPPPHHQQRRRRIIIMTTTTNNKKSSRRVVVVAAAADDEEGGGG'\n",
    "codon_table = dict(zip(codons, amino_acids))\n",
    "\n",
    "codon_table['AAA']"
   ]
  },
  {
   "cell_type": "code",
   "execution_count": null,
   "metadata": {},
   "outputs": [],
   "source": [
    "bases = \"TCAG\"\n",
    "codons = [a + b + c for a in bases for b in bases for c in bases]\n",
    "amino_acids = 'FFLLSSSSYY**CC*WLLLLPPPPHHQQRRRRIIIMTTTTNNKKSSRRVVVVAAAADDEEGGGG'\n",
    "codon_table = dict(zip(codons, amino_acids))\n",
    "#seq = \"\"\n",
    "#length = 0\n",
    "\n",
    "\n",
    "fn = open('TP53.txt')\n",
    "fn\n",
    "#fn.read()\n",
    "#for nt in list(fn.read()):\n",
    "#    if (nt != '\\n'):\n",
    "#        length += 1\n",
    "#        seq += nt\n",
    "#print(seq)\n",
    "        #for pos in range(0,length-3,3):\n",
    "#    print(codon_table[seq[pos:pos+3]])"
   ]
  },
  {
   "cell_type": "code",
   "execution_count": 30,
   "metadata": {},
   "outputs": [
    {
     "name": "stdout",
     "output_type": "stream",
     "text": [
      "2591\n"
     ]
    }
   ],
   "source": [
    "bases = \"TCAG\"\n",
    "codons = [a + b + c for a in bases for b in bases for c in bases]\n",
    "amino_acids = 'FFLLSSSSYY**CC*WLLLLPPPPHHQQRRRRIIIMTTTTNNKKSSRRVVVVAAAADDEEGGGG'\n",
    "codon_table = dict(zip(codons, amino_acids))\n",
    "\n",
    "ll = 0\n",
    "seq = \"\"\n",
    "fn = open('TP53.txt')\n",
    "for nt in list(fn.read()):\n",
    "    if (nt != '\\n'):\n",
    "        ll += 1\n",
    "        seq += nt\n",
    "print (ll)\n",
    "        #for pos in range(0, ll-3, 3):\n",
    "#    print(ll)"
   ]
  },
  {
   "cell_type": "code",
   "execution_count": 17,
   "metadata": {},
   "outputs": [
    {
     "name": "stdout",
     "output_type": "stream",
     "text": [
      "0\n",
      "3\n",
      "6\n",
      "9\n"
     ]
    }
   ],
   "source": [
    "for a in range(0, 10, 3):\n",
    "    print(a)"
   ]
  }
 ],
 "metadata": {
  "kernelspec": {
   "display_name": "Python 3",
   "language": "python",
   "name": "python3"
  },
  "language_info": {
   "codemirror_mode": {
    "name": "ipython",
    "version": 3
   },
   "file_extension": ".py",
   "mimetype": "text/x-python",
   "name": "python",
   "nbconvert_exporter": "python",
   "pygments_lexer": "ipython3",
   "version": "3.5.2"
  }
 },
 "nbformat": 4,
 "nbformat_minor": 2
}
