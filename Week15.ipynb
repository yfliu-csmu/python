{
 "cells": [
  {
   "cell_type": "markdown",
   "metadata": {},
   "source": [
    "## 1. 何謂字典 (dictionary)? 常稱為 \"雜湊\" - hash"
   ]
  },
  {
   "cell_type": "markdown",
   "metadata": {},
   "source": [
    "![](https://www.w3resource.com/w3r_images/python-dictionary.jpg)"
   ]
  },
  {
   "cell_type": "markdown",
   "metadata": {},
   "source": [
    "### (1) A dictionary is a collection of key-value pairs.\n",
    "### (2) Declare it using curly braces ( { } ), and commas ( , ) to separate key-value pairs.\n",
    "### (3) separate values from keys using a colon( : )"
   ]
  },
  {
   "cell_type": "markdown",
   "metadata": {},
   "source": [
    "### 參考網站: https://www.w3resource.com/python/python-dictionary.php"
   ]
  },
  {
   "cell_type": "code",
   "execution_count": 2,
   "metadata": {},
   "outputs": [
    {
     "data": {
      "text/plain": [
       "dict"
      ]
     },
     "execution_count": 2,
     "metadata": {},
     "output_type": "execute_result"
    }
   ],
   "source": [
    "student = {'Name': 'Abc', 'Age': 21}\n",
    "type(student)"
   ]
  },
  {
   "cell_type": "code",
   "execution_count": 5,
   "metadata": {},
   "outputs": [
    {
     "data": {
      "text/plain": [
       "'Abc'"
      ]
     },
     "execution_count": 5,
     "metadata": {},
     "output_type": "execute_result"
    }
   ],
   "source": [
    "student = {'Name': 'Abc', 'Age': 21}\n",
    "student['Name']"
   ]
  },
  {
   "cell_type": "markdown",
   "metadata": {},
   "source": [
    "## 2. 如何建立字典?"
   ]
  },
  {
   "cell_type": "markdown",
   "metadata": {},
   "source": [
    "### (1) 宣告一個物件為 \"dict\" 類型 ( count = {}  or count = dict() )\n",
    "### (2) 利用中括號 [  ] 與等號 = 來設定 key 與 value"
   ]
  },
  {
   "cell_type": "code",
   "execution_count": 14,
   "metadata": {},
   "outputs": [
    {
     "data": {
      "text/plain": [
       "1"
      ]
     },
     "execution_count": 14,
     "metadata": {},
     "output_type": "execute_result"
    }
   ],
   "source": [
    "count = {}   \n",
    "count['A'] = 1\n",
    "count['A']"
   ]
  },
  {
   "cell_type": "markdown",
   "metadata": {},
   "source": [
    "## 3. 範例請利用 dictionary 的方式，來改寫 Homework 4 計算序列中 A, T, G and C 各有多少個?"
   ]
  },
  {
   "cell_type": "code",
   "execution_count": 15,
   "metadata": {
    "collapsed": true
   },
   "outputs": [
    {
     "name": "stdout",
     "output_type": "stream",
     "text": [
      "A:  6\n",
      "T:  6\n",
      "G:  4\n",
      "C:  5\n"
     ]
    }
   ],
   "source": [
    "seq = \"AAATTTGGCCGGTAACCCTTA\"\n",
    "count_A = 0\n",
    "count_T = 0\n",
    "count_G = 0\n",
    "count_C = 0\n",
    "\n",
    "for nt in list(seq):\n",
    "    if (nt == \"A\"):\n",
    "        count_A += 1\n",
    "    elif (nt == \"T\"):\n",
    "        count_T += 1\n",
    "    elif (nt == \"G\"):\n",
    "        count_G += 1\n",
    "    elif (nt == \"C\"):\n",
    "        count_C += 1\n",
    "        \n",
    "print (\"A: \", count_A)\n",
    "print (\"T: \", count_T)\n",
    "print (\"G: \", count_G)\n",
    "print (\"C: \", count_C)"
   ]
  },
  {
   "cell_type": "code",
   "execution_count": 25,
   "metadata": {},
   "outputs": [
    {
     "name": "stdout",
     "output_type": "stream",
     "text": [
      "A :  6\n",
      "T :  6\n",
      "G :  4\n",
      "C :  5\n"
     ]
    }
   ],
   "source": [
    "seq = \"AAATTTGGCCGGTAACCCTTA\"\n",
    "count = dict()\n",
    "count['A'] = 0\n",
    "count['T'] = 0\n",
    "count['G'] = 0\n",
    "count['C'] = 0\n",
    "\n",
    "for nt in list(seq):\n",
    "    count[nt] += 1\n",
    "\n",
    "for nt in ['A', 'T', 'G', 'C']:\n",
    "    print (nt, \": \", count[nt])"
   ]
  },
  {
   "cell_type": "markdown",
   "metadata": {},
   "source": [
    "## 4. 請利用 NCBI GenBank 資料庫 (NP_000537.3)，製作一個普通文字檔，將人類 TP53 protein (isoform a) 的氨基酸序列檔案 (FASTA format) - \"TP53p.txt\", 並上傳至 Jupyter 伺服器上。(https://www.ncbi.nlm.nih.gov/protein/NP_000537.3?report=fasta)"
   ]
  },
  {
   "cell_type": "markdown",
   "metadata": {},
   "source": [
    "## [Homework 8] 請寫一個程式，計算 TP53p.txt 檔案中，20種氨基酸所出現的次數與頻率為多少?"
   ]
  },
  {
   "cell_type": "code",
   "execution_count": 3,
   "metadata": {
    "scrolled": true
   },
   "outputs": [
    {
     "name": "stdout",
     "output_type": "stream",
     "text": [
      "C :  10 [ 2.54 % ]\n",
      "K :  20 [ 5.09 % ]\n",
      "R :  26 [ 6.62 % ]\n",
      "S :  38 [ 9.67 % ]\n",
      "E :  30 [ 7.63 % ]\n",
      "D :  20 [ 5.09 % ]\n",
      "Y :  9 [ 2.29 % ]\n",
      "G :  23 [ 5.85 % ]\n",
      "V :  18 [ 4.58 % ]\n",
      "T :  22 [ 5.6 % ]\n",
      "P :  45 [ 11.45 % ]\n",
      "A :  24 [ 6.11 % ]\n",
      "L :  32 [ 8.14 % ]\n",
      "F :  11 [ 2.8 % ]\n",
      "H :  12 [ 3.05 % ]\n",
      "Q :  15 [ 3.82 % ]\n",
      "W :  4 [ 1.02 % ]\n",
      "N :  14 [ 3.56 % ]\n",
      "I :  8 [ 2.04 % ]\n",
      "M :  12 [ 3.05 % ]\n"
     ]
    }
   ],
   "source": [
    "fn = open('TP53p.txt')\n",
    "count = dict()\n",
    "len = 0\n",
    "for aa in list(fn.read()):\n",
    "    if (aa != '\\n'):\n",
    "        len += 1\n",
    "        if (aa in count):\n",
    "            count[aa] += 1\n",
    "        else: \n",
    "            count[aa] = 1\n",
    "for aa in count.keys():\n",
    "    print (aa, ': ', count[aa], '[', round(count[aa]/len*100,2), '% ]')"
   ]
  },
  {
   "cell_type": "code",
   "execution_count": 45,
   "metadata": {
    "collapsed": true
   },
   "outputs": [
    {
     "name": "stdout",
     "output_type": "stream",
     "text": [
      "Help on built-in function round in module builtins:\n",
      "\n",
      "round(...)\n",
      "    round(number[, ndigits]) -> number\n",
      "    \n",
      "    Round a number to a given precision in decimal digits (default 0 digits).\n",
      "    This returns an int when called with one argument, otherwise the\n",
      "    same type as the number. ndigits may be negative.\n",
      "\n"
     ]
    }
   ],
   "source": [
    "help(round)"
   ]
  },
  {
   "cell_type": "markdown",
   "metadata": {},
   "source": [
    "## 5. Translation Codon Table"
   ]
  },
  {
   "cell_type": "markdown",
   "metadata": {},
   "source": [
    "### The genetic code is traditionally represented as an RNA codon table because, when proteins are made in a cell by ribosomes, it is mRNA that directs protein synthesis."
   ]
  },
  {
   "cell_type": "markdown",
   "metadata": {},
   "source": [
    "![](https://i2.wp.com/basicbiology.net/wp-content/uploads/2015/08/codons-1.jpg?w=505&ssl=1)"
   ]
  },
  {
   "cell_type": "markdown",
   "metadata": {},
   "source": [
    "### 參考網站 - http://www.petercollingridge.co.uk/tutorials/bioinformatics/codon-table/"
   ]
  },
  {
   "cell_type": "markdown",
   "metadata": {},
   "source": [
    "## 6. zip (拉鍊) build-in function"
   ]
  },
  {
   "cell_type": "markdown",
   "metadata": {},
   "source": [
    "### Make an iterator that aggregates elements from each of the iterables."
   ]
  },
  {
   "cell_type": "code",
   "execution_count": 4,
   "metadata": {},
   "outputs": [
    {
     "data": {
      "text/plain": [
       "{1: 'a', 2: 'b', 3: 'c'}"
      ]
     },
     "execution_count": 4,
     "metadata": {},
     "output_type": "execute_result"
    }
   ],
   "source": [
    "a = [1, 2, 3]\n",
    "b = ['a', 'b', 'c']\n",
    "zipped = zip(a,b)\n",
    "dict(zipped)"
   ]
  },
  {
   "cell_type": "markdown",
   "metadata": {},
   "source": [
    "## 7. 建立標準的基因轉譯表(Genetic Codon Table)"
   ]
  },
  {
   "cell_type": "code",
   "execution_count": 8,
   "metadata": {
    "scrolled": false
   },
   "outputs": [
    {
     "name": "stdout",
     "output_type": "stream",
     "text": [
      "AAA\n",
      "AAT\n",
      "AAG\n",
      "AAC\n",
      "ATA\n",
      "ATT\n",
      "ATG\n",
      "ATC\n",
      "AGA\n",
      "AGT\n",
      "AGG\n",
      "AGC\n",
      "ACA\n",
      "ACT\n",
      "ACG\n",
      "ACC\n",
      "TAA\n",
      "TAT\n",
      "TAG\n",
      "TAC\n",
      "TTA\n",
      "TTT\n",
      "TTG\n",
      "TTC\n",
      "TGA\n",
      "TGT\n",
      "TGG\n",
      "TGC\n",
      "TCA\n",
      "TCT\n",
      "TCG\n",
      "TCC\n",
      "GAA\n",
      "GAT\n",
      "GAG\n",
      "GAC\n",
      "GTA\n",
      "GTT\n",
      "GTG\n",
      "GTC\n",
      "GGA\n",
      "GGT\n",
      "GGG\n",
      "GGC\n",
      "GCA\n",
      "GCT\n",
      "GCG\n",
      "GCC\n",
      "CAA\n",
      "CAT\n",
      "CAG\n",
      "CAC\n",
      "CTA\n",
      "CTT\n",
      "CTG\n",
      "CTC\n",
      "CGA\n",
      "CGT\n",
      "CGG\n",
      "CGC\n",
      "CCA\n",
      "CCT\n",
      "CCG\n",
      "CCC\n"
     ]
    }
   ],
   "source": [
    "bases = \"ATGC\"\n",
    "for a in bases:\n",
    "    for b in bases:\n",
    "        for c in bases:\n",
    "            print(a + b + c)"
   ]
  },
  {
   "cell_type": "code",
   "execution_count": 6,
   "metadata": {},
   "outputs": [
    {
     "data": {
      "text/plain": [
       "{'AAA': 'F',\n",
       " 'AAC': 'L',\n",
       " 'AAG': 'L',\n",
       " 'AAT': 'F',\n",
       " 'ACA': 'C',\n",
       " 'ACC': 'W',\n",
       " 'ACG': '*',\n",
       " 'ACT': 'C',\n",
       " 'AGA': 'Y',\n",
       " 'AGC': '*',\n",
       " 'AGG': '*',\n",
       " 'AGT': 'Y',\n",
       " 'ATA': 'S',\n",
       " 'ATC': 'S',\n",
       " 'ATG': 'S',\n",
       " 'ATT': 'S',\n",
       " 'CAA': 'V',\n",
       " 'CAC': 'V',\n",
       " 'CAG': 'V',\n",
       " 'CAT': 'V',\n",
       " 'CCA': 'G',\n",
       " 'CCC': 'G',\n",
       " 'CCG': 'G',\n",
       " 'CCT': 'G',\n",
       " 'CGA': 'D',\n",
       " 'CGC': 'E',\n",
       " 'CGG': 'E',\n",
       " 'CGT': 'D',\n",
       " 'CTA': 'A',\n",
       " 'CTC': 'A',\n",
       " 'CTG': 'A',\n",
       " 'CTT': 'A',\n",
       " 'GAA': 'I',\n",
       " 'GAC': 'M',\n",
       " 'GAG': 'I',\n",
       " 'GAT': 'I',\n",
       " 'GCA': 'S',\n",
       " 'GCC': 'R',\n",
       " 'GCG': 'R',\n",
       " 'GCT': 'S',\n",
       " 'GGA': 'N',\n",
       " 'GGC': 'K',\n",
       " 'GGG': 'K',\n",
       " 'GGT': 'N',\n",
       " 'GTA': 'T',\n",
       " 'GTC': 'T',\n",
       " 'GTG': 'T',\n",
       " 'GTT': 'T',\n",
       " 'TAA': 'L',\n",
       " 'TAC': 'L',\n",
       " 'TAG': 'L',\n",
       " 'TAT': 'L',\n",
       " 'TCA': 'R',\n",
       " 'TCC': 'R',\n",
       " 'TCG': 'R',\n",
       " 'TCT': 'R',\n",
       " 'TGA': 'H',\n",
       " 'TGC': 'Q',\n",
       " 'TGG': 'Q',\n",
       " 'TGT': 'H',\n",
       " 'TTA': 'P',\n",
       " 'TTC': 'P',\n",
       " 'TTG': 'P',\n",
       " 'TTT': 'P'}"
      ]
     },
     "execution_count": 6,
     "metadata": {},
     "output_type": "execute_result"
    }
   ],
   "source": [
    "bases = \"ATGC\"\n",
    "codons = [a + b + c for a in bases for b in bases for c in bases]\n",
    "amino_acids = 'FFLLSSSSYY**CC*WLLLLPPPPHHQQRRRRIIIMTTTTNNKKSSRRVVVVAAAADDEEGGGG'\n",
    "codon_table = dict(zip(codons, amino_acids))\n",
    "codon_table"
   ]
  },
  {
   "cell_type": "markdown",
   "metadata": {},
   "source": [
    "## D3GB https://www.ncbi.nlm.nih.gov/pubmed/28437135"
   ]
  }
 ],
 "metadata": {
  "kernelspec": {
   "display_name": "Python 3",
   "language": "python",
   "name": "python3"
  },
  "language_info": {
   "codemirror_mode": {
    "name": "ipython",
    "version": 3
   },
   "file_extension": ".py",
   "mimetype": "text/x-python",
   "name": "python",
   "nbconvert_exporter": "python",
   "pygments_lexer": "ipython3",
   "version": "3.5.2"
  }
 },
 "nbformat": 4,
 "nbformat_minor": 2
}
