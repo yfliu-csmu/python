{
 "cells": [
  {
   "cell_type": "markdown",
   "metadata": {},
   "source": [
    "## 1. 何謂字典 (dictionary)? 常稱為 \"雜湊\" - hash"
   ]
  },
  {
   "cell_type": "markdown",
   "metadata": {},
   "source": [
    "### (1) A dictionary is a collection of key-value pairs.\n",
    "### (2) Declare it using curly braces ( { } ), and commas ( , ) to separate key-value pairs.\n",
    "### (3) separate values from keys using a colon( : )"
   ]
  },
  {
   "cell_type": "code",
   "execution_count": 2,
   "metadata": {},
   "outputs": [
    {
     "data": {
      "text/plain": [
       "dict"
      ]
     },
     "execution_count": 2,
     "metadata": {},
     "output_type": "execute_result"
    }
   ],
   "source": [
    "student = {'Name': 'Abc', 'Age': 21}\n",
    "type(student)"
   ]
  },
  {
   "cell_type": "code",
   "execution_count": 5,
   "metadata": {},
   "outputs": [
    {
     "data": {
      "text/plain": [
       "'Abc'"
      ]
     },
     "execution_count": 5,
     "metadata": {},
     "output_type": "execute_result"
    }
   ],
   "source": [
    "student = {'Name': 'Abc', 'Age': 21}\n",
    "student['Name']"
   ]
  },
  {
   "cell_type": "markdown",
   "metadata": {},
   "source": [
    "## 2. 如何建立字典?"
   ]
  },
  {
   "cell_type": "markdown",
   "metadata": {},
   "source": [
    "### (1) 宣告一個物件為 \"dict\" 類型\n",
    "### (2) 利用中括號 [  ] 與等號 = 來設定 key 與 value"
   ]
  },
  {
   "cell_type": "code",
   "execution_count": 14,
   "metadata": {},
   "outputs": [
    {
     "data": {
      "text/plain": [
       "1"
      ]
     },
     "execution_count": 14,
     "metadata": {},
     "output_type": "execute_result"
    }
   ],
   "source": [
    "count = {}   \n",
    "count['A'] = 1\n",
    "count['A']"
   ]
  },
  {
   "cell_type": "markdown",
   "metadata": {},
   "source": [
    "## 範例請利用 dictionary 的方式，來改寫 Homework 4 計算序列中 A, T, G and C 各有多少個?"
   ]
  },
  {
   "cell_type": "code",
   "execution_count": 15,
   "metadata": {
    "collapsed": true
   },
   "outputs": [
    {
     "name": "stdout",
     "output_type": "stream",
     "text": [
      "A:  6\n",
      "T:  6\n",
      "G:  4\n",
      "C:  5\n"
     ]
    }
   ],
   "source": [
    "seq = \"AAATTTGGCCGGTAACCCTTA\"\n",
    "count_A = 0\n",
    "count_T = 0\n",
    "count_G = 0\n",
    "count_C = 0\n",
    "\n",
    "for nt in list(seq):\n",
    "    if (nt == \"A\"):\n",
    "        count_A += 1\n",
    "    elif (nt == \"T\"):\n",
    "        count_T += 1\n",
    "    elif (nt == \"G\"):\n",
    "        count_G += 1\n",
    "    elif (nt == \"C\"):\n",
    "        count_C += 1\n",
    "        \n",
    "print (\"A: \", count_A)\n",
    "print (\"T: \", count_T)\n",
    "print (\"G: \", count_G)\n",
    "print (\"C: \", count_C)"
   ]
  },
  {
   "cell_type": "code",
   "execution_count": 25,
   "metadata": {},
   "outputs": [
    {
     "name": "stdout",
     "output_type": "stream",
     "text": [
      "A :  6\n",
      "T :  6\n",
      "G :  4\n",
      "C :  5\n"
     ]
    }
   ],
   "source": [
    "seq = \"AAATTTGGCCGGTAACCCTTA\"\n",
    "count = dict()\n",
    "count['A'] = 0\n",
    "count['T'] = 0\n",
    "count['G'] = 0\n",
    "count['C'] = 0\n",
    "\n",
    "for nt in list(seq):\n",
    "    count[nt] += 1\n",
    "\n",
    "for nt in ['A', 'T', 'G', 'C']:\n",
    "    print (nt, \": \", count[nt])"
   ]
  },
  {
   "cell_type": "markdown",
   "metadata": {},
   "source": [
    "## 請利用 NCBI GenBank 資料庫 (NP_000537.3)，製作一個普通文字檔，將人類 TP53 protein (isoform a) 的氨基酸序列檔案 (FASTA format) - \"TP53p.txt\", 並上傳至 Jupyter 伺服器上。"
   ]
  },
  {
   "cell_type": "markdown",
   "metadata": {},
   "source": [
    "## [Homework 8] 請寫一個程式，計算 TP53p.txt 檔案中，20種氨基酸所出現的次數與頻率為多少?"
   ]
  },
  {
   "cell_type": "code",
   "execution_count": 47,
   "metadata": {
    "scrolled": true
   },
   "outputs": [
    {
     "name": "stdout",
     "output_type": "stream",
     "text": [
      "I :  8 ( 2.04 %)\n",
      "F :  11 ( 2.8 %)\n",
      "M :  12 ( 3.05 %)\n",
      "L :  32 ( 8.14 %)\n",
      "V :  18 ( 4.58 %)\n",
      "K :  20 ( 5.09 %)\n",
      "W :  4 ( 1.02 %)\n",
      "R :  26 ( 6.62 %)\n",
      "Y :  9 ( 2.29 %)\n",
      "T :  22 ( 5.6 %)\n",
      "Q :  15 ( 3.82 %)\n",
      "A :  24 ( 6.11 %)\n",
      "N :  14 ( 3.56 %)\n",
      "S :  38 ( 9.67 %)\n",
      "C :  10 ( 2.54 %)\n",
      "G :  23 ( 5.85 %)\n",
      "H :  12 ( 3.05 %)\n",
      "D :  20 ( 5.09 %)\n",
      "P :  45 ( 11.45 %)\n",
      "E :  30 ( 7.63 %)\n",
      "393\n"
     ]
    }
   ],
   "source": [
    "fn = open('TP53p.txt')\n",
    "count = dict()\n",
    "len = 0\n",
    "for aa in list(fn.read()):\n",
    "    if (aa != '\\n'):\n",
    "        len += 1\n",
    "        if (aa in count):\n",
    "            count[aa] += 1\n",
    "        else: \n",
    "            count[aa] = 1\n",
    "for aa in count.keys():\n",
    "    print (aa, ': ', count[aa], '(', round(count[aa]/len*100,2), '%)')"
   ]
  },
  {
   "cell_type": "code",
   "execution_count": 45,
   "metadata": {},
   "outputs": [
    {
     "name": "stdout",
     "output_type": "stream",
     "text": [
      "Help on built-in function round in module builtins:\n",
      "\n",
      "round(...)\n",
      "    round(number[, ndigits]) -> number\n",
      "    \n",
      "    Round a number to a given precision in decimal digits (default 0 digits).\n",
      "    This returns an int when called with one argument, otherwise the\n",
      "    same type as the number. ndigits may be negative.\n",
      "\n"
     ]
    }
   ],
   "source": [
    "help(round)"
   ]
  }
 ],
 "metadata": {
  "kernelspec": {
   "display_name": "Python 3",
   "language": "python",
   "name": "python3"
  },
  "language_info": {
   "codemirror_mode": {
    "name": "ipython",
    "version": 3
   },
   "file_extension": ".py",
   "mimetype": "text/x-python",
   "name": "python",
   "nbconvert_exporter": "python",
   "pygments_lexer": "ipython3",
   "version": "3.5.2"
  }
 },
 "nbformat": 4,
 "nbformat_minor": 2
}
