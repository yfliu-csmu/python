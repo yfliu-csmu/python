{
 "cells": [
  {
   "cell_type": "markdown",
   "metadata": {},
   "source": [
    "## 1. 何謂放式框架 (Open Reading Frame, \"ORF\")?"
   ]
  },
  {
   "cell_type": "markdown",
   "metadata": {},
   "source": [
    "![](https://gss2.bdstatic.com/9fo3dSag_xI4khGkpoWK1HF6hhy/baike/c0%3Dbaike116%2C5%2C5%2C116%2C38/sign=9502fabc2d1f95cab2f89ae4a87e145b/a5c27d1ed21b0ef419dd679cd5c451da81cb3e3e.jpg)"
   ]
  },
  {
   "cell_type": "markdown",
   "metadata": {},
   "source": [
    "## 2. 字串的透過指定的分隔符號( * )，來進行字串(string)的切片(slicing)"
   ]
  },
  {
   "cell_type": "code",
   "execution_count": 4,
   "metadata": {},
   "outputs": [
    {
     "data": {
      "text/plain": [
       "['you', 'I', 'he', 'she', 'we', 'they']"
      ]
     },
     "execution_count": 4,
     "metadata": {},
     "output_type": "execute_result"
    }
   ],
   "source": [
    "string = 'you,I,he,she,we,they'\n",
    "words = string.split(',')\n",
    "words"
   ]
  },
  {
   "cell_type": "markdown",
   "metadata": {},
   "source": [
    "![](https://cdn.guru99.com/images/uploads/2012/08/SplitString.png)"
   ]
  },
  {
   "cell_type": "markdown",
   "metadata": {},
   "source": [
    "## 3. 請寫一個程式判斷一段氨基酸序列的開放式框架? (Determining the ORFs)"
   ]
  },
  {
   "cell_type": "code",
   "execution_count": 6,
   "metadata": {
    "collapsed": true
   },
   "outputs": [
    {
     "data": {
      "text/plain": [
       "['DGIGVFPSHVLKTGAKSFELLKSLEPPSREQVAAGLRGHFAFGLGACFPRR',\n",
       " 'HASLDWQPDCLPGHCHGGAAVRS',\n",
       " 'RRAPSESGNIFRPMETTS',\n",
       " 'KQRSVPLAVPSNG',\n",
       " 'FDAVPGRY',\n",
       " 'TMVH',\n",
       " 'RPRSR',\n",
       " 'SSQNARGCSPRGPCTSSSYTGGPCTSPLLAPVIFCPFPENLPGQLRFPSGLLAFWDSQVCDLHVLPCPQQDVLPTGQDLPCAAVG',\n",
       " 'FHTPARHPRPRHGHLQAVTAHDGGCEALPPP',\n",
       " 'ALLR',\n",
       " 'RWSGPSSASYPSGRKFACGVFG',\n",
       " 'QKHFST',\n",
       " 'CGGAL',\n",
       " 'AA',\n",
       " 'GWL',\n",
       " 'LYHHPLQLHV',\n",
       " 'QFLHGRHEPEAHPHHHHTGRLQW',\n",
       " 'STGTEQL',\n",
       " 'GACLCLSWERPAHRGRESPQERGASPRAAPREH',\n",
       " 'ASTAQQHQLLSPAKEETTGWRIFHPSDPWA',\n",
       " 'ALRDVPRAE',\n",
       " 'GLGTQGCPGWEGARGEQGSLQPPEVQKGSVYLPP',\n",
       " 'KTHVQDRRA',\n",
       " 'LRLTFSTSCSPLTASHPHLSLPCHFGFWVFEPLLAIGVRQKHPGLPFALSRGSTEQVGLHWCFVVGRRMGSRTYQLRF',\n",
       " 'GFYCEGCLGDVRNVLAVKG',\n",
       " 'FTISHILGRGPLHRTNQGSCPSLLNFL',\n",
       " 'LQGPYL',\n",
       " 'NAGICTYLTECIVRVNEIMYIWP',\n",
       " 'NHLLLHGV',\n",
       " 'NLTPLRVLVPSPCWSVGW',\n",
       " 'FLQLGSWLGRGSCQVSAGPAKPCLTTSW',\n",
       " 'TLVPKRKSHPIPHPGGFHLLYMMIWIHQDLFYAQGQFLFSFFFFFFFFFETGSRFVAQAGVEWRDLGLLQPLPPRLEQSCLSLRSSWDHRFMPPWPANFCMFCRDGVSQCCPGWSQTPGLRRSTCLSLPECWDYNCEPPRPAGRVNIFYILQAHLHFHPTLPLLLPFYIPFLYRSLILQ',\n",
       " 'NFAATCVSEG']"
      ]
     },
     "execution_count": 6,
     "metadata": {},
     "output_type": "execute_result"
    }
   ],
   "source": [
    "protein = \"DGIGVFPSHVLKTGAKSFELLKSLEPPSREQVAAGLRGHFAFG\\\n",
    "LGACFPRR*HASLDWQPDCLPGHCHGGAAVRS*RRAPSESGNIFRPMETTS*KQ\\\n",
    "RSVPLAVPSNG*FDAVPGRY*TMVH*RPRSR*SSQNARGCSPRGPCTSSSYTGG\\\n",
    "PCTSPLLAPVIFCPFPENLPGQLRFPSGLLAFWDSQVCDLHVLPCPQQDVLPTG\\\n",
    "QDLPCAAVG*FHTPARHPRPRHGHLQAVTAHDGGCEALPPP*ALLR*RWSGPSS\\\n",
    "ASYPSGRKFACGVFG*QKHFST*CGGAL*AA*GWL*LYHHPLQLHV*QFLHGRH\\\n",
    "EPEAHPHHHHTGRLQW*STGTEQL*GACLCLSWERPAHRGRESPQERGASPRAA\\\n",
    "PREH*ASTAQQHQLLSPAKEETTGWRIFHPSDPWA*ALRDVPRAE*GLGTQGCP\\\n",
    "GWEGARGEQGSLQPPEVQKGSVYLPP*KTHVQDRRA*LRLTFSTSCSPLTASHP\\\n",
    "HLSLPCHFGFWVFEPLLAIGVRQKHPGLPFALSRGSTEQVGLHWCFVVGRRMGS\\\n",
    "RTYQLRF*GFYCEGCLGDVRNVLAVKG*FTISHILGRGPLHRTNQGSCPSLLNF\\\n",
    "L*LQGPYL*NAGICTYLTECIVRVNEIMYIWP*NHLLLHGV*NLTPLRVLVPSP\\\n",
    "CWSVGW*FLQLGSWLGRGSCQVSAGPAKPCLTTSW*TLVPKRKSHPIPHPGGFH\\\n",
    "LLYMMIWIHQDLFYAQGQFLFSFFFFFFFFFETGSRFVAQAGVEWRDLGLLQPL\\\n",
    "PPRLEQSCLSLRSSWDHRFMPPWPANFCMFCRDGVSQCCPGWSQTPGLRRSTCL\\\n",
    "SLPECWDYNCEPPRPAGRVNIFYILQAHLHFHPTLPLLLPFYIPFLYRSLILQ*\\\n",
    "NFAATCVSEG\"\n",
    "\n",
    "pp = protein.split('*')\n",
    "pp"
   ]
  },
  {
   "cell_type": "markdown",
   "metadata": {},
   "source": [
    "## 4. 如何判斷一個字串中某一個字元的位置?"
   ]
  },
  {
   "cell_type": "code",
   "execution_count": 8,
   "metadata": {},
   "outputs": [
    {
     "data": {
      "text/plain": [
       "5"
      ]
     },
     "execution_count": 8,
     "metadata": {},
     "output_type": "execute_result"
    }
   ],
   "source": [
    "ss = 'WDHRFMPPWPANFCMFCRDGVSQCCPGWSQTPGLRRSTCL'\n",
    "pos = ss.index('M')\n",
    "pos"
   ]
  },
  {
   "cell_type": "markdown",
   "metadata": {},
   "source": [
    "## Homework 13 請將 'TP53.txt' 的 6 個 ORFs 轉譯(translation) 的氨基酸序列，以 stop codon \" * \" 分為幾個氨基酸片斷"
   ]
  },
  {
   "cell_type": "code",
   "execution_count": 10,
   "metadata": {
    "collapsed": true
   },
   "outputs": [
    {
     "name": "stdout",
     "output_type": "stream",
     "text": [
      "== Main strain Frame 0 ==\n",
      "DGIGVFPSHVLKTGAKSFELLKSLEPPSREQVAAGLRGHFAFGLGACFPRR\n",
      "HASLDWQPDCLPGHCHGGAAVRS\n",
      "RRAPSESGNIFRPMETTS\n",
      "KQRSVPLAVPSNG\n",
      "FDAVPGRY\n",
      "TMVH\n",
      "RPRSR\n",
      "SSQNARGCSPRGPCTSSSYTGGPCTSPLLAPVIFCPFPENLPGQLRFPSGLLAFWDSQVCDLHVLPCPQQDVLPTGQDLPCAAVG\n",
      "FHTPARHPRPRHGHLQAVTAHDGGCEALPPP\n",
      "ALLR\n",
      "RWSGPSSASYPSGRKFACGVFG\n",
      "QKHFST\n",
      "CGGAL\n",
      "AA\n",
      "GWL\n",
      "LYHHPLQLHV\n",
      "QFLHGRHEPEAHPHHHHTGRLQW\n",
      "STGTEQL\n",
      "GACLCLSWERPAHRGRESPQERGASPRAAPREH\n",
      "ASTAQQHQLLSPAKEETTGWRIFHPSDPWA\n",
      "ALRDVPRAE\n",
      "GLGTQGCPGWEGARGEQGSLQPPEVQKGSVYLPP\n",
      "KTHVQDRRA\n",
      "LRLTFSTSCSPLTASHPHLSLPCHFGFWVFEPLLAIGVRQKHPGLPFALSRGSTEQVGLHWCFVVGRRMGSRTYQLRF\n",
      "GFYCEGCLGDVRNVLAVKG\n",
      "FTISHILGRGPLHRTNQGSCPSLLNFL\n",
      "LQGPYL\n",
      "NAGICTYLTECIVRVNEIMYIWP\n",
      "NHLLLHGV\n",
      "NLTPLRVLVPSPCWSVGW\n",
      "FLQLGSWLGRGSCQVSAGPAKPCLTTSW\n",
      "TLVPKRKSHPIPHPGGFHLLYMMIWIHQDLFYAQGQFLFSFFFFFFFFFETGSRFVAQAGVEWRDLGLLQPLPPRLEQSCLSLRSSWDHRFMPPWPANFCMFCRDGVSQCCPGWSQTPGLRRSTCLSLPECWDYNCEPPRPAGRVNIFYILQAHLHFHPTLPLLLPFYIPFLYRSLILQ\n",
      "NFAATCVSEG\n",
      "== Main strain Frame 1 ==\n",
      "WDWGFPLPCAQDWR\n",
      "KF\n",
      "ASQKSRATVQGAGSCWAPGTLCVRAGSVLSTTVTRFPGLAARLPSGSLPWRSRSQILASSPL\n",
      "VRKHFQTYGNYFLKTTFCPPCRPKQWMI\n",
      "CCPRTILNNGSLKTQVQMKLPECQRLLPPWPLHQQLLHRRPLHQPPPGPCHLLSLPRKPTRAATVSVWASCILGQPSL\n",
      "LARTPLPSTRCFANWPRPALCSCGLIPHPRPAPASAPWPSTSSHST\n",
      "RRL\n",
      "GAAPTMSAAQIAMVWPLLSILSEWKEICVWSIWMTETLFDIVWWCPMSRLRLALTVPPSTTTTCVTVPAWAA\n",
      "TGGPSSPSSHWKTPVVIYWDGTALRCVFVPVLGETGAQRKRISARKGSLTTSCPQGALSEHCPTTPAPLPSQRRNHWMENISPFRSVGVSASRCSES\n",
      "MRPWNSRMPRLGRSQGGAGLTPAT\n",
      "SPKRVSLPPAIKNSCSRQKGLTQTDILHFLFPTDSLPPPSLPPLPFWVLGL\n",
      "TLACNRCASEAPRTSICFVPGLH\n",
      "TSWPALVFCCGEEDGE\n",
      "DIPA\n",
      "ILRFLL\n",
      "GMFGRCKKCSCS\n",
      "GLVYNQPHSR\n",
      "GPTSPY\n",
      "PGKLSLTVEFSLTSRPISVKCWHLHLPHRVHCEG\n",
      "NNVHLALKPPFITWGLELDPLEGACSLSLLVGGLVVSTVGQLVR\n",
      "RELSSLCWPSQTLSDNLLVNLST\n",
      "KEISPHPTPWRISSLVYDDLDPPRLVLCSGSISFFFFFFFFLFL\n",
      "DWVSLCCPGWSGVA\n",
      "SWLTAAFASPARAVLPQPPE\n",
      "LGPQVHATMASQLLHVL\n",
      "RWGLTVLPRLVSNSWAQAIHLSQPPRVLGLQL\n",
      "ATTSSWKGQHLLHSASTSAFSPHPSPPSPFLYPIFISISYFTIKLCCHLCV\n",
      "GV\n",
      "== Main strain Frame 2 ==\n",
      "GLGFSPPMCSRLALKVLSFSKV\n",
      "SHRPGSR\n",
      "LLGSGDTLRSGWERAFHDGDTLPWIGSQTAFRVTAMEEPQSDPSVEPPLSQETFSDLWKLLPENNVLSPLPSQAMDDLMLSPDDIEQWFTEDPGPDEAPRMPEAAPPVAPAPAAPTPAAPAPAPSWPLSSSVPSQKTYQGSYGFRLGFLHSGTAKSVTCTYSPALNKMFCQLAKTCPVQLWVDSTPPPGTRVRAMAIYKQSQHMTEVVRRCPHHERCSDSDGLAPPQHLIRVEGNLRVEYLDDRNTFRHSVVVPYEPPEVGSDCTTIHYNYMCNSSCMGGMNRRPILTIITLEDSSGNLLGRNSFEVRVCACPGRDRRTEEENLRKKGEPHHELPPGSTKRALPNNTSSSPQPKKKPLDGEYFTLQIRGRERFEMFRELNEALELKDAQAGKEPGGSRAHSSHLKSKKGQSTSRHKKLMFKTEGPDSD\n",
      "HSPLLVPH\n",
      "QPPTPISPSPAILGFGSLNPCLQ\n",
      "VCVRSTQDFHLLCPGAPLNKLACTGVLLWGGGWGVGHTSLDFKVFTVRDVWEM\n",
      "EMFLQLRVSLQSATF\n",
      "VGAHFTVLTREAVPHC\n",
      "IFSNFKAHICEMLAFAPTSQSAL\n",
      "GLMK\n",
      "CTSGLETTFYYMGSRT\n",
      "PP\n",
      "GCLFPLPVGRWVGSFYSWAAG\n",
      "VEGVVKSLLAQPNPV\n",
      "QPLGEP\n",
      "YLKGNLTPSHTLEDFISCI\n",
      "SGSTKTCFMLRVNFFFLFFFFFSFSLRLGLALLPRLEWSGVILAYCSLCLPGSSSPASASGVAGTTGSCHHGQPTFACFVEMGSHSVAQAGLKLLGSGDPPVSASQSAGITIVSHHVQLEGSTSFTFCKHICIFTPPFPSFSLFISHFYIDLLFYNKTLLPPVCLRG\n",
      "== Complementary strain Frame 0 ==\n",
      "HPSDTQVAAKFYCKIRDRYKNGI\n",
      "KGRRRGRVG\n",
      "KCRCACRM\n",
      "KMLTLPAGRGGSQL\n",
      "SQHSGRLRQVDRLSPGV\n",
      "DQPGQHCETPSLQNMQKLAGHGGMNLWSQLLRRLRQDCSSRGGKGCSKPRSRHSTPAWATKRDPVSKKKKKKKKKEKRN\n",
      "P\n",
      "A\n",
      "NKSWWIQIIIYKR\n",
      "NPPGCGMG\n",
      "DFLLGTKVHQEVVRQGLAGPAET\n",
      "QLPLPNQLPNCRNYQPTDQQGEGTSTLKGVKF\n",
      "TPCNKRWFQGQMYIISLTLTMHSVR\n",
      "VQMPAFHRYGP\n",
      "S\n",
      "RKFNSEGQLPWLVR\n",
      "SGPLPRMWLIVN\n",
      "PLTARTFLTSPKHPSQ\n",
      "KP\n",
      "NLSWYVLLPILLPTTKHQCRPTCSVEPRDKANGSPGCF\n",
      "RTPIASKGSKTQNPKWQGRERWGWEAVSGEQEVENVSLSQALLS\n",
      "T\n",
      "VFYGGR\n",
      "TDPFWTSGGWSEPCSPLAPSQPGHP\n",
      "VPRPHSALGTSRSAHAHGSEG\n",
      "NILHPVVSSLAGERSWCCWAVLA\n",
      "CSLGAARGEAPLSCGDSLPLCAGLSQDRHKHAPQSCSVPVDYHWSLPV\n",
      "W\n",
      "GWASGSCRPCRNCYTCSCSGWWYSQSQPQAAHRAPPHYVEKCFCHPNTPHANFLPLG\n",
      "DAEEGPDHRYLSSAHGGGSASQPPSCAVTACRWPWRGRGCRAGVWNQPTAAQGRSWPVGKTSC\n",
      "GQGSTCKSQTWLSQNARSPDGNRSCPGRFSGKGQKMTGARRGLVQGPPV\n",
      "ELLVQGPRGEQPLAFWELHLDLGLQ\n",
      "TIVQYRPGTASNHPLLGTARGTERCFQEVVSIGLKMFPDSEGARR\n",
      "DLTAAPPWQ\n",
      "PGRQSGCQSREACHRRGKHAPSPNAKCPRSPAATCSLDGGSRLLRSSKLLAPVLSTWEGKTPIP\n",
      "== Complementary strain Frame 1 ==\n",
      "PLRHTGGSKVLL\n",
      "NKRSI\n",
      "KWDIKREKEGKGGVKMQMCLQNVKDVDPSSWTWWLTIVIPALWEAETGGSPEPRSLRPAWATL\n",
      "DPISTKHAKVGWPWWHEPVVPATPEAEAGLLEPGRQRLQ\n",
      "AKITPLHSSLGNKARPSLKEKEKKKKKRKKKLTLSIKQVLVDPDHHIQEMKSSRVWDGVRFPFRY\n",
      "GSPRGCQTGFGWASRDLTTPST\n",
      "PAAQL\n",
      "KLPTHRPTGRGNKHPQGGQVLDPM\n",
      "KVVSRPDVHYFINPHNALCEVGANASISQIWALKLEKIQQ\n",
      "GTASLVSTVKWAPT\n",
      "NVADCKLTLNCKNISYISQTSLTVKTLKSKLVCPTPHPPPHNKTPVQANLFSGAPGQSKWKSWVLLTHTYCKQGFKDPKPKMAGEGEMGVGGCQWGTRSGECQSESGPSVLNMSFLWREVD\n",
      "PFLDFRWLE\n",
      "ALLPPGSFPAWASLSSKASFSSRNISKRSRPRI\n",
      "RVKYSPSSGFFFGWGEELVLLGSARLVLPGGSSW\n",
      "GSPFLRRFSSSVRRSLPGQAQTRTSKLFRPSRLPLESSSVMMVRMGLRFMPPMQELLHM\n",
      "L\n",
      "WMVVQSEPTSGGS\n",
      "GTTTLCRKVFLSSKYSTRKFPSTRIRC\n",
      "GGARPSLSEQRSWWGQRLTTSVMCCDCL\n",
      "MAMARTRVPGGGVESTHSCTGQVLASWQNILLRAGEYVQVTDLAVPECKKPRRKP\n",
      "LPW\n",
      "VFWEGTEDDRGQEGAGAGAAGVGAAGAGATGGAASGILGASSGPGSSVNHCSISSGDSIKSSIAWDGKGDRTLFSGSSFHRSENVS\n",
      "LRGGSTLGSDCGSSMAVTRKAVWLPIQGSVSPSWKARSQPERKVSPEPSSYLLPGRWL\n",
      "TFEKLKTFSASLEHMGGENPNPI\n",
      "== Complementary strain Frame 2 ==\n",
      "PQTHRWQQSFIVK\n",
      "EIDIKMGYKKGEGGEGWGENADVLAECKRC\n",
      "PFQLDVVAHNCNPSTLGG\n",
      "DRWIA\n",
      "AQEFETSLGNTVRPHLYKTCKSWLAMVA\n",
      "TCGPSYSGG\n",
      "GRTARAGEAKAAVSQDHATPLQPGQQSETQSQRKRKKKKKKKKEIDPEHKTSLGGSRSSYTRDEILQGVGWGEISF\n",
      "VLRFTKRLSDRVWLGQQRLDNSLYLTSCPTVETTNPPTNREREQAPSRGSSSRPHVIKGGFKARCTLFH\n",
      "PSQCTL\n",
      "GRCKCQHFTDMGLEVRENSTVRDSFPG\n",
      "YGEVGPYLECG\n",
      "L\n",
      "TNP\n",
      "LQEHFLHLPNIPHSKNLKI\n",
      "AGMSYSPSSSPQQNTSAGQLVQWSPGTKQMEVLGASDAHLLQARVQRPKTQNGRGGRDGGGRLSVGNKKWRMSV\n",
      "VRPFCLEHEFFMAGGRLTLFGLQVAGVSPAPPWLLPSLGILEFQGLIQLSEHLEALTPTDLKGEIFSIQWFLLWLGRGAGVVGQCSLSAPWGQLVVRLPFLAEILFLCAPVSPRTGTNTHLKAVPSQ\n",
      "ITTGVFQCDDGEDGPPVHAAHAGTVTHVVVVDGGTVRANLRRLIGHHHTMSKSVSVIQILHTQISFHSDKMLRRGQTIAI\n",
      "AALMVGAAPHNLRHVL\n",
      "LLVDGHGADAGAGRGCGINPQLHRAGLGQLAKHLVEGRGVRASHRLGCPRMQEAQTETVAALVGFLGRDRR\n",
      "QGPGGGWCRGRRCRSCWCRGHGGSSLWHSGSFIWTWVFSEPLFNIVRGQHQIIHCLGRQGGQNVVFRK\n",
      "FP\n",
      "V\n",
      "KCFLTQRGLDARI\n",
      "LRLLHGSDPEGSLAANPGKRVTVVESTLPARTQSVPGAQQLPAPWTVALDF\n",
      "EAQNF\n",
      "RQS\n",
      "AHGRGKPQSH\n"
     ]
    }
   ],
   "source": [
    "def translation(strain, seq):\n",
    "    bases = \"TCAG\"\n",
    "    codons = [a + b + c for a in bases for b in bases for c in bases]\n",
    "    amino_acids = 'FFLLSSSSYY**CC*WLLLLPPPPHHQQRRRRIIIMTTTTNNKKSSRRVVVVAAAADDEEGGGG'\n",
    "    codon_table = dict(zip(codons, amino_acids))\n",
    "\n",
    "    for frame in [0, 1, 2]:\n",
    "        print(\"== {} strain Frame {} ==\".format(strain, frame))\n",
    "        aa = \"\"\n",
    "        for pos in range(frame, len(seq), 3):\n",
    "            if len(seq[pos+frame:pos+3+frame]) == 3:\n",
    "                aa += codon_table[seq[pos+frame:pos+frame+3]]\n",
    "        for pp in aa.split('*'):\n",
    "            if len(pp) > 0:\n",
    "                print(pp)\n",
    "\n",
    "fn = open('TP53.txt')\n",
    "complementary_table = {'A':'T', 'T': 'A', 'G':'C', 'C':'G'}\n",
    "seq = \"\"\n",
    "c_seq = \"\"\n",
    "for nt in fn.read():\n",
    "    if nt != '\\n':\n",
    "        seq += nt\n",
    "        c_seq += complementary_table[nt]\n",
    "translation('Main', seq)\n",
    "translation('Complementary', c_seq[::-1])\n",
    "fn.close()"
   ]
  },
  {
   "cell_type": "markdown",
   "metadata": {},
   "source": [
    "## 5. 判斷數列中最大值?"
   ]
  },
  {
   "cell_type": "code",
   "execution_count": 14,
   "metadata": {},
   "outputs": [
    {
     "name": "stdout",
     "output_type": "stream",
     "text": [
      "105\n"
     ]
    }
   ],
   "source": [
    "\n",
    "max = 0\n",
    "\n",
    "num_list = [12, 44, 55, 100, 105, 66, 33, 46]\n",
    "for num in num_list:\n",
    "    if (num > max):\n",
    "       max = num\n",
    "    \n",
    "print(max)"
   ]
  },
  {
   "cell_type": "markdown",
   "metadata": {},
   "source": [
    "## Homework 14 請挑出'TP53.txt' 的 6 個 ORFs 轉譯(translation) 的氨基酸序列中， 在正股與反股上分別最長的 ORFs 為何?"
   ]
  },
  {
   "cell_type": "code",
   "execution_count": 20,
   "metadata": {
    "collapsed": true
   },
   "outputs": [
    {
     "name": "stdout",
     "output_type": "stream",
     "text": [
      "In the TP53 gene, the longest ORF in the Main strain: \n",
      "LLGSGDTLRSGWERAFHDGDTLPWIGSQTAFRVTAMEEPQSDPSVEPPLSQETFSDLWKLLPENNVLSPLPSQAMDDLMLSPDDIEQWFTEDPGPDEAPRMPEAAPPVAPAPAAPTPAAPAPAPSWPLSSSVPSQKTYQGSYGFRLGFLHSGTAKSVTCTYSPALNKMFCQLAKTCPVQLWVDSTPPPGTRVRAMAIYKQSQHMTEVVRRCPHHERCSDSDGLAPPQHLIRVEGNLRVEYLDDRNTFRHSVVVPYEPPEVGSDCTTIHYNYMCNSSCMGGMNRRPILTIITLEDSSGNLLGRNSFEVRVCACPGRDRRTEEENLRKKGEPHHELPPGSTKRALPNNTSSSPQPKKKPLDGEYFTLQIRGRERFEMFRELNEALELKDAQAGKEPGGSRAHSSHLKSKKGQSTSRHKKLMFKTEGPDSD (428 nts)\n",
      "In the TP53 gene, the longest ORF in the Complementary strain: \n",
      "VRPFCLEHEFFMAGGRLTLFGLQVAGVSPAPPWLLPSLGILEFQGLIQLSEHLEALTPTDLKGEIFSIQWFLLWLGRGAGVVGQCSLSAPWGQLVVRLPFLAEILFLCAPVSPRTGTNTHLKAVPSQ (127 nts)\n"
     ]
    }
   ],
   "source": [
    "def translation(strain, seq):\n",
    "    bases = \"TCAG\"\n",
    "    codons = [a + b + c for a in bases for b in bases for c in bases]\n",
    "    amino_acids = 'FFLLSSSSYY**CC*WLLLLPPPPHHQQRRRRIIIMTTTTNNKKSSRRVVVVAAAADDEEGGGG'\n",
    "    codon_table = dict(zip(codons, amino_acids))\n",
    "    max = 0\n",
    "    max_seq = \"\"\n",
    "    for frame in [0, 1, 2]:\n",
    "        aa = \"\"\n",
    "        for pos in range(frame, len(seq), 3):\n",
    "            if len(seq[pos+frame:pos+3+frame]) == 3:\n",
    "                aa += codon_table[seq[pos+frame:pos+frame+3]]\n",
    "        for pp in aa.split('*'):\n",
    "            if len(pp) > 0:\n",
    "                if (len(pp) > max):\n",
    "                    max = len(pp)\n",
    "                    max_seq = pp\n",
    "    print(\"In the TP53 gene, the longest ORF in the {} strain: \".format(strain))\n",
    "    print(\"{} ({} nts)\".format(max_seq, max))\n",
    "                    \n",
    "\n",
    "fn = open('TP53.txt')\n",
    "complementary_table = {'A':'T', 'T': 'A', 'G':'C', 'C':'G'}\n",
    "seq = \"\"\n",
    "c_seq = \"\"\n",
    "for nt in fn.read():\n",
    "    if nt != '\\n':\n",
    "        seq += nt\n",
    "        c_seq += complementary_table[nt]\n",
    "translation('Main', seq)\n",
    "translation('Complementary', c_seq[::-1])\n",
    "fn.close()"
   ]
  },
  {
   "cell_type": "markdown",
   "metadata": {},
   "source": [
    "## 6. Python 套件 (packgaes) 的安裝與使用"
   ]
  },
  {
   "cell_type": "markdown",
   "metadata": {},
   "source": [
    "## 7. Biopython is a set of freely available tools for biological computation written in Python by an international team of developers (https://biopython.org/)"
   ]
  },
  {
   "cell_type": "markdown",
   "metadata": {},
   "source": [
    "### installation command in linux environment - sudo pip3 install biopython"
   ]
  },
  {
   "cell_type": "markdown",
   "metadata": {},
   "source": [
    "##  8. biopython 套件的使用，如何藉由網路的方式，直接由 NCBI 資料庫取得人類 TP53 (NM_000546) 基因的mRNA的序列資料?"
   ]
  },
  {
   "cell_type": "code",
   "execution_count": 2,
   "metadata": {},
   "outputs": [
    {
     "name": "stdout",
     "output_type": "stream",
     "text": [
      "GATGGGATTGGGGTTTTCCCCTCCCATGTGCTCAAGACTGGCGCTAAAAGTTTTGAGCTTCTCAAAAGTC\n",
      "TAGAGCCACCGTCCAGGGAGCAGGTAGCTGCTGGGCTCCGGGGACACTTTGCGTTCGGGCTGGGAGCGTG\n",
      "CTTTCCACGACGGTGACACGCTTCCCTGGATTGGCAGCCAGACTGCCTTCCGGGTCACTGCCATGGAGGA\n",
      "GCCGCAGTCAGATCCTAGCGTCGAGCCCCCTCTGAGTCAGGAAACATTTTCAGACCTATGGAAACTACTT\n",
      "CCTGAAAACAACGTTCTGTCCCCCTTGCCGTCCCAAGCAATGGATGATTTGATGCTGTCCCCGGACGATA\n",
      "TTGAACAATGGTTCACTGAAGACCCAGGTCCAGATGAAGCTCCCAGAATGCCAGAGGCTGCTCCCCCCGT\n",
      "GGCCCCTGCACCAGCAGCTCCTACACCGGCGGCCCCTGCACCAGCCCCCTCCTGGCCCCTGTCATCTTCT\n",
      "GTCCCTTCCCAGAAAACCTACCAGGGCAGCTACGGTTTCCGTCTGGGCTTCTTGCATTCTGGGACAGCCA\n",
      "AGTCTGTGACTTGCACGTACTCCCCTGCCCTCAACAAGATGTTTTGCCAACTGGCCAAGACCTGCCCTGT\n",
      "GCAGCTGTGGGTTGATTCCACACCCCCGCCCGGCACCCGCGTCCGCGCCATGGCCATCTACAAGCAGTCA\n",
      "CAGCACATGACGGAGGTTGTGAGGCGCTGCCCCCACCATGAGCGCTGCTCAGATAGCGATGGTCTGGCCC\n",
      "CTCCTCAGCATCTTATCCGAGTGGAAGGAAATTTGCGTGTGGAGTATTTGGATGACAGAAACACTTTTCG\n",
      "ACATAGTGTGGTGGTGCCCTATGAGCCGCCTGAGGTTGGCTCTGACTGTACCACCATCCACTACAACTAC\n",
      "ATGTGTAACAGTTCCTGCATGGGCGGCATGAACCGGAGGCCCATCCTCACCATCATCACACTGGAAGACT\n",
      "CCAGTGGTAATCTACTGGGACGGAACAGCTTTGAGGTGCGTGTTTGTGCCTGTCCTGGGAGAGACCGGCG\n",
      "CACAGAGGAAGAGAATCTCCGCAAGAAAGGGGAGCCTCACCACGAGCTGCCCCCAGGGAGCACTAAGCGA\n",
      "GCACTGCCCAACAACACCAGCTCCTCTCCCCAGCCAAAGAAGAAACCACTGGATGGAGAATATTTCACCC\n",
      "TTCAGATCCGTGGGCGTGAGCGCTTCGAGATGTTCCGAGAGCTGAATGAGGCCTTGGAACTCAAGGATGC\n",
      "CCAGGCTGGGAAGGAGCCAGGGGGGAGCAGGGCTCACTCCAGCCACCTGAAGTCCAAAAAGGGTCAGTCT\n",
      "ACCTCCCGCCATAAAAAACTCATGTTCAAGACAGAAGGGCCTGACTCAGACTGACATTCTCCACTTCTTG\n",
      "TTCCCCACTGACAGCCTCCCACCCCCATCTCTCCCTCCCCTGCCATTTTGGGTTTTGGGTCTTTGAACCC\n",
      "TTGCTTGCAATAGGTGTGCGTCAGAAGCACCCAGGACTTCCATTTGCTTTGTCCCGGGGCTCCACTGAAC\n",
      "AAGTTGGCCTGCACTGGTGTTTTGTTGTGGGGAGGAGGATGGGGAGTAGGACATACCAGCTTAGATTTTA\n",
      "AGGTTTTTACTGTGAGGGATGTTTGGGAGATGTAAGAAATGTTCTTGCAGTTAAGGGTTAGTTTACAATC\n",
      "AGCCACATTCTAGGTAGGGGCCCACTTCACCGTACTAACCAGGGAAGCTGTCCCTCACTGTTGAATTTTC\n",
      "TCTAACTTCAAGGCCCATATCTGTGAAATGCTGGCATTTGCACCTACCTCACAGAGTGCATTGTGAGGGT\n",
      "TAATGAAATAATGTACATCTGGCCTTGAAACCACCTTTTATTACATGGGGTCTAGAACTTGACCCCCTTG\n",
      "AGGGTGCTTGTTCCCTCTCCCTGTTGGTCGGTGGGTTGGTAGTTTCTACAGTTGGGCAGCTGGTTAGGTA\n",
      "GAGGGAGTTGTCAAGTCTCTGCTGGCCCAGCCAAACCCTGTCTGACAACCTCTTGGTGAACCTTAGTACC\n",
      "TAAAAGGAAATCTCACCCCATCCCACACCCTGGAGGATTTCATCTCTTGTATATGATGATCTGGATCCAC\n",
      "CAAGACTTGTTTTATGCTCAGGGTCAATTTCTTTTTTCTTTTTTTTTTTTTTTTTTCTTTTTCTTTGAGA\n",
      "CTGGGTCTCGCTTTGTTGCCCAGGCTGGAGTGGAGTGGCGTGATCTTGGCTTACTGCAGCCTTTGCCTCC\n",
      "CCGGCTCGAGCAGTCCTGCCTCAGCCTCCGGAGTAGCTGGGACCACAGGTTCATGCCACCATGGCCAGCC\n",
      "AACTTTTGCATGTTTTGTAGAGATGGGGTCTCACAGTGTTGCCCAGGCTGGTCTCAAACTCCTGGGCTCA\n",
      "GGCGATCCACCTGTCTCAGCCTCCCAGAGTGCTGGGATTACAATTGTGAGCCACCACGTCCAGCTGGAAG\n",
      "GGTCAACATCTTTTACATTCTGCAAGCACATCTGCATTTTCACCCCACCCTTCCCCTCCTTCTCCCTTTT\n",
      "TATATCCCATTTTTATATCGATCTCTTATTTTACAATAAAACTTTGCTGCCACCTGTGTGTCTGAGGGGT\n",
      "G\n",
      "\n",
      "\n"
     ]
    }
   ],
   "source": [
    "from Bio import Entrez\n",
    "\n",
    "Entrez.email = 'yfliu@csmu.edu.tw'\n",
    "handle = Entrez.efetch(db=\"nucleotide\", id=\"NM_000546\", rettype=\"fasta\", retmode=\"text\")\n",
    "seq = ''\n",
    "\n",
    "line = handle.readline()\n",
    "line = handle.readline()\n",
    "while line:\n",
    "    seq += line\n",
    "    line = handle.readline()\n",
    "\n",
    "handle.close()\n",
    "print(seq)"
   ]
  },
  {
   "cell_type": "markdown",
   "metadata": {},
   "source": [
    "## 9. 何謂序列的 fasta 格式? (https://en.wikipedia.org/wiki/FASTA_format)"
   ]
  },
  {
   "cell_type": "markdown",
   "metadata": {},
   "source": [
    "![](http://last.cbrc.jp/tutorial/human-mito.png)"
   ]
  },
  {
   "cell_type": "markdown",
   "metadata": {},
   "source": [
    "## Homework 15 請寫一個程式直接由 NCBI 取得 TP53 的 DNA 序列， 並且將其 6 個 ORFs 轉譯(translation) 的氨基酸序列中， 顯示在正股與反股上分別最長的 ORFs 為何?"
   ]
  },
  {
   "cell_type": "code",
   "execution_count": 6,
   "metadata": {
    "collapsed": true
   },
   "outputs": [
    {
     "name": "stdout",
     "output_type": "stream",
     "text": [
      "In the TP53 gene, the longest ORF in the Main strain: \n",
      "LLGSGDTLRSGWERAFHDGDTLPWIGSQTAFRVTAMEEPQSDPSVEPPLSQETFSDLWKLLPENNVLSPLPSQAMDDLMLSPDDIEQWFTEDPGPDEAPRMPEAAPPVAPAPAAPTPAAPAPAPSWPLSSSVPSQKTYQGSYGFRLGFLHSGTAKSVTCTYSPALNKMFCQLAKTCPVQLWVDSTPPPGTRVRAMAIYKQSQHMTEVVRRCPHHERCSDSDGLAPPQHLIRVEGNLRVEYLDDRNTFRHSVVVPYEPPEVGSDCTTIHYNYMCNSSCMGGMNRRPILTIITLEDSSGNLLGRNSFEVRVCACPGRDRRTEEENLRKKGEPHHELPPGSTKRALPNNTSSSPQPKKKPLDGEYFTLQIRGRERFEMFRELNEALELKDAQAGKEPGGSRAHSSHLKSKKGQSTSRHKKLMFKTEGPDSD (428 nts)\n",
      "In the TP53 gene, the longest ORF in the Complementary strain: \n",
      "VRPFCLEHEFFMAGGRLTLFGLQVAGVSPAPPWLLPSLGILEFQGLIQLSEHLEALTPTDLKGEIFSIQWFLLWLGRGAGVVGQCSLSAPWGQLVVRLPFLAEILFLCAPVSPRTGTNTHLKAVPSQ (127 nts)\n"
     ]
    }
   ],
   "source": [
    "def ncbi(id):\n",
    "    \n",
    "    from Bio import Entrez\n",
    "\n",
    "    Entrez.email = 'yfliu@csmu.edu.tw'\n",
    "    handle = Entrez.efetch(db=\"nucleotide\", id=id, rettype=\"fasta\", retmode=\"text\")\n",
    "    seq = ''\n",
    "\n",
    "    line = handle.readline()\n",
    "    line = handle.readline()\n",
    "    while line:\n",
    "        seq += line\n",
    "        line = handle.readline()\n",
    "    handle.close()\n",
    "    \n",
    "    return seq\n",
    "\n",
    "def translation(strain, seq):\n",
    "    bases = \"TCAG\"\n",
    "    codons = [a + b + c for a in bases for b in bases for c in bases]\n",
    "    amino_acids = 'FFLLSSSSYY**CC*WLLLLPPPPHHQQRRRRIIIMTTTTNNKKSSRRVVVVAAAADDEEGGGG'\n",
    "    codon_table = dict(zip(codons, amino_acids))\n",
    "    max = 0\n",
    "    max_seq = \"\"\n",
    "    for frame in [0, 1, 2]:\n",
    "        aa = \"\"\n",
    "        for pos in range(frame, len(seq), 3):\n",
    "            if len(seq[pos+frame:pos+3+frame]) == 3:\n",
    "                aa += codon_table[seq[pos+frame:pos+frame+3]]\n",
    "        for pp in aa.split('*'):\n",
    "            if len(pp) > 0:\n",
    "                if (len(pp) > max):\n",
    "                    max = len(pp)\n",
    "                    max_seq = pp\n",
    "    print(\"In the TP53 gene, the longest ORF in the {} strain: \".format(strain))\n",
    "    print(\"{} ({} nts)\".format(max_seq, max))\n",
    "                    \n",
    "record = ncbi('NM_000546')\n",
    "complementary_table = {'A':'T', 'T': 'A', 'G':'C', 'C':'G'}\n",
    "seq = ''\n",
    "c_seq = \"\"\n",
    "for nt in record:\n",
    "    if nt != '\\n':\n",
    "        seq += nt\n",
    "        c_seq += complementary_table[nt]\n",
    "translation('Main', seq)\n",
    "translation('Complementary', c_seq[::-1])"
   ]
  },
  {
   "cell_type": "markdown",
   "metadata": {},
   "source": [
    "## 10. 直接使用 biopython 套件，進行 translation 的動作"
   ]
  },
  {
   "cell_type": "code",
   "execution_count": 9,
   "metadata": {},
   "outputs": [
    {
     "name": "stderr",
     "output_type": "stream",
     "text": [
      "/usr/local/lib/python3.5/dist-packages/Bio/Seq.py:2423: BiopythonWarning: Partial codon, len(sequence) not a multiple of three. Explicitly trim the sequence or add trailing N before translation. This may become an error in future.\n",
      "  BiopythonWarning)\n"
     ]
    },
    {
     "data": {
      "text/plain": [
       "Seq('DGIGVFPSHVLKTGAKSFELLKSLEPPSREQVAAGLRGHFAFGLGACFPRR*HA...SEG', HasStopCodon(ExtendedIUPACProtein(), '*'))"
      ]
     },
     "execution_count": 9,
     "metadata": {},
     "output_type": "execute_result"
    }
   ],
   "source": [
    "def ncbi(id):\n",
    "    \n",
    "    from Bio import Entrez\n",
    "\n",
    "    Entrez.email = 'yfliu@csmu.edu.tw'\n",
    "    handle = Entrez.efetch(db=\"nucleotide\", id=id, rettype=\"fasta\", retmode=\"text\")\n",
    "    seq = ''\n",
    "\n",
    "    line = handle.readline()\n",
    "    line = handle.readline()\n",
    "    while line:\n",
    "        seq += line\n",
    "        line = handle.readline()\n",
    "    handle.close()\n",
    "    \n",
    "    return seq\n",
    "\n",
    "from Bio.Seq import Seq\n",
    "from Bio.Alphabet import generic_dna\n",
    "\n",
    "record = ncbi('NM_000546')\n",
    "seq = ''\n",
    "for nt in record:\n",
    "    if nt != '\\n':\n",
    "        seq += nt\n",
    "gene = Seq(seq, generic_dna)\n",
    "gene.translate(table=\"Bacterial\")"
   ]
  }
 ],
 "metadata": {
  "kernelspec": {
   "display_name": "Python 3",
   "language": "python",
   "name": "python3"
  },
  "language_info": {
   "codemirror_mode": {
    "name": "ipython",
    "version": 3
   },
   "file_extension": ".py",
   "mimetype": "text/x-python",
   "name": "python",
   "nbconvert_exporter": "python",
   "pygments_lexer": "ipython3",
   "version": "3.6.5"
  }
 },
 "nbformat": 4,
 "nbformat_minor": 2
}
