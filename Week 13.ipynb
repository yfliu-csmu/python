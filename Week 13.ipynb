{
 "cells": [
  {
   "cell_type": "markdown",
   "metadata": {},
   "source": [
    "### 1. 累加函數"
   ]
  },
  {
   "cell_type": "code",
   "execution_count": 1,
   "metadata": {},
   "outputs": [],
   "source": [
    "a = 1\n",
    "a = a + 1"
   ]
  },
  {
   "cell_type": "code",
   "execution_count": 2,
   "metadata": {},
   "outputs": [
    {
     "data": {
      "text/plain": [
       "2"
      ]
     },
     "execution_count": 2,
     "metadata": {},
     "output_type": "execute_result"
    }
   ],
   "source": [
    "a"
   ]
  },
  {
   "cell_type": "code",
   "execution_count": 3,
   "metadata": {},
   "outputs": [],
   "source": [
    "a += 1"
   ]
  },
  {
   "cell_type": "code",
   "execution_count": 4,
   "metadata": {},
   "outputs": [
    {
     "data": {
      "text/plain": [
       "3"
      ]
     },
     "execution_count": 4,
     "metadata": {},
     "output_type": "execute_result"
    }
   ],
   "source": [
    "a"
   ]
  },
  {
   "cell_type": "markdown",
   "metadata": {},
   "source": [
    "### 2. 複雜的條件流程判斷式"
   ]
  },
  {
   "cell_type": "code",
   "execution_count": 5,
   "metadata": {},
   "outputs": [
    {
     "name": "stdout",
     "output_type": "stream",
     "text": [
      "b larger than a\n"
     ]
    }
   ],
   "source": [
    "a = 1\n",
    "b = 2\n",
    "if (a > b):\n",
    "    print(\"a larger than b\")\n",
    "elif (a == b):\n",
    "    print(\"a equal b\")\n",
    "else:\n",
    "    print(\"b larger than a\")"
   ]
  },
  {
   "cell_type": "markdown",
   "metadata": {},
   "source": [
    "![](https://encrypted-tbn0.gstatic.com/images?q=tbn:ANd9GcTayzwSzJQ90kTqizsvR_8vVICysHaPrN2vwT5m9-xqBAJKOh27sw)"
   ]
  },
  {
   "cell_type": "markdown",
   "metadata": {},
   "source": [
    "### Homework 4 請寫一個程式計算序列中 A, T, G and C 各有多少個?"
   ]
  },
  {
   "cell_type": "code",
   "execution_count": 6,
   "metadata": {},
   "outputs": [],
   "source": [
    "seq = \"AAAAATTTTGGTGTTGGTTTT\""
   ]
  },
  {
   "cell_type": "code",
   "execution_count": 7,
   "metadata": {
    "collapsed": true
   },
   "outputs": [
    {
     "name": "stdout",
     "output_type": "stream",
     "text": [
      "A:  5\n",
      "T:  11\n",
      "G:  5\n",
      "C:  0\n"
     ]
    }
   ],
   "source": [
    "count_A = 0\n",
    "count_T = 0\n",
    "count_G = 0\n",
    "count_C = 0\n",
    "\n",
    "for nt in list(seq):\n",
    "    if (nt == \"A\"):\n",
    "        count_A += 1\n",
    "    elif (nt == \"T\"):\n",
    "        count_T += 1\n",
    "    elif (nt == \"G\"):\n",
    "        count_G += 1\n",
    "    elif (nt == \"C\"):\n",
    "        count_C += 1\n",
    "        \n",
    "print (\"A: \", count_A)\n",
    "print (\"T: \", count_T)\n",
    "print (\"G: \", count_G)\n",
    "print (\"C: \", count_C)"
   ]
  },
  {
   "cell_type": "markdown",
   "metadata": {},
   "source": [
    "![](https://3.bp.blogspot.com/-HathIp4UrU4/VbiVgU3zNFI/AAAAAAAAGt0/pduTHmBISeM/s400/if-elif-else.jpg)"
   ]
  },
  {
   "cell_type": "markdown",
   "metadata": {},
   "source": [
    "### 3. 檔案準備"
   ]
  },
  {
   "cell_type": "markdown",
   "metadata": {},
   "source": [
    "### 請利用 NCBI GenBank 資料庫 (NM_000546.5)，製作一個普通文字檔的人類 TP53 cDNA (isoform a) 的序列檔案 (FASTA format) - \"TP53.txt\", 上傳至 Jupyter 伺服器上。"
   ]
  },
  {
   "cell_type": "markdown",
   "metadata": {},
   "source": [
    "### 4. 操作普通文字檔 - 開啟檔案、讀取資料及關閉檔案"
   ]
  },
  {
   "cell_type": "code",
   "execution_count": 8,
   "metadata": {},
   "outputs": [
    {
     "name": "stdout",
     "output_type": "stream",
     "text": [
      "filename:  TP53.txt\n"
     ]
    }
   ],
   "source": [
    "fn = open(\"TP53.txt\")\n",
    "print (\"filename: \", fn.name)"
   ]
  },
  {
   "cell_type": "code",
   "execution_count": 9,
   "metadata": {},
   "outputs": [
    {
     "name": "stdout",
     "output_type": "stream",
     "text": [
      "GATGGGATTGGGGTTTTCCCCTCCCATGTGCTCAAGACTGGCGCTAAAAGTTTTGAGCTTCTCAAAAGTC\n",
      "\n"
     ]
    }
   ],
   "source": [
    "line = fn.readline()\n",
    "print (line)"
   ]
  },
  {
   "cell_type": "code",
   "execution_count": 10,
   "metadata": {},
   "outputs": [],
   "source": [
    "fn.close()"
   ]
  },
  {
   "cell_type": "markdown",
   "metadata": {},
   "source": [
    "### 另一種寫法(免close)"
   ]
  },
  {
   "cell_type": "code",
   "execution_count": 14,
   "metadata": {},
   "outputs": [
    {
     "name": "stdout",
     "output_type": "stream",
     "text": [
      "G\tA\tT\tG\tG\tG\tA\tT\tT\tG\tG\tG\tG\tT\tT\tT\tT\tC\tC\tC\tC\tT\tC\tC\tC\tA\tT\tG\tT\tG\tC\tT\tC\tA\tA\tG\tA\tC\tT\tG\tG\tC\tG\tC\tT\tA\tA\tA\tA\tG\tT\tT\tT\tT\tG\tA\tG\tC\tT\tT\tC\tT\tC\tA\tA\tA\tA\tG\tT\tC\t\n",
      "\t"
     ]
    }
   ],
   "source": [
    "with open (\"TP53.txt\") as fn:\n",
    "    for nt in fn.readline():\n",
    "        print(nt, end=\"\\t\")"
   ]
  },
  {
   "cell_type": "markdown",
   "metadata": {},
   "source": [
    "### Homework 5 請利用 Homework 4 改寫一個程式, 來計算 TP53 isoform a 的 mRNA 序列中 A, T, G and C 各有多少個?"
   ]
  },
  {
   "cell_type": "markdown",
   "metadata": {},
   "source": [
    "### 5. 操作普通文字檔 - 開啟檔案、寫入資料及關閉檔案"
   ]
  },
  {
   "cell_type": "code",
   "execution_count": null,
   "metadata": {},
   "outputs": [],
   "source": [
    "fn2 = open(\"9x9.txt\", \"w\")\n",
    "stat = \"\"\n",
    "for x in range(9):\n",
    "    for y in range(9):\n",
    "        stat = str(x+1) + \"x\" + str(y+1) + \"= \" + str((x+1)*(y+1)) + \"\\t\"\n",
    "        fn2.write(stat)\n",
    "    fn2.write(\"\\n\")\n",
    "fn2.close()"
   ]
  },
  {
   "cell_type": "code",
   "execution_count": null,
   "metadata": {},
   "outputs": [],
   "source": [
    "seq = \"AAAATTTGGCCTGGG\"\n",
    "transtab = str.maketrans(\"ATGC\", \"TACG\")\n",
    "complementary_seq = seq.translate(transtab)\n",
    "complementary_seq"
   ]
  },
  {
   "cell_type": "markdown",
   "metadata": {},
   "source": [
    "### Homework 5 請寫一個程式, 來將 TP53 isoform a mRNA 的序列 (sense strand) 成為反股 (antisense strand)?"
   ]
  },
  {
   "cell_type": "markdown",
   "metadata": {},
   "source": [
    "### 請將網路上的一個圖片(http://www.biologydiscussion.com/rna/transcription/transcription-synthesis-of-rna-a-general-account/15518), 存下來 \"image_thumb340.png\", 並上傳至 jupyter伺服器上。"
   ]
  },
  {
   "cell_type": "code",
   "execution_count": null,
   "metadata": {},
   "outputs": [],
   "source": [
    "from IPython.display import Image\n",
    "Image(\"image_thumb340.png\")"
   ]
  },
  {
   "cell_type": "markdown",
   "metadata": {},
   "source": [
    "### 或者直接使用網路上的ㄧ個圖片 (http://cdn.biologydiscussion.com/wp-content/uploads/2015/10/image_thumb340.png)"
   ]
  },
  {
   "cell_type": "markdown",
   "metadata": {},
   "source": [
    "![](http://cdn.biologydiscussion.com/wp-content/uploads/2015/10/image_thumb340.png)"
   ]
  }
 ],
 "metadata": {
  "kernelspec": {
   "display_name": "Python 3",
   "language": "python",
   "name": "python3"
  },
  "language_info": {
   "codemirror_mode": {
    "name": "ipython",
    "version": 3
   },
   "file_extension": ".py",
   "mimetype": "text/x-python",
   "name": "python",
   "nbconvert_exporter": "python",
   "pygments_lexer": "ipython3",
   "version": "3.5.2"
  }
 },
 "nbformat": 4,
 "nbformat_minor": 2
}
